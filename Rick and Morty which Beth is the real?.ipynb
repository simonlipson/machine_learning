{
 "cells": [
  {
   "cell_type": "code",
   "execution_count": 58,
   "metadata": {},
   "outputs": [],
   "source": [
    "import pandas as pd\n",
    "import numpy as np\n",
    "from sklearn.feature_extraction.text import TfidfVectorizer\n",
    "from sklearn.linear_model import LogisticRegression\n",
    "from sklearn.metrics import classification_report\n",
    "from ibm_watson import PersonalityInsightsV3\n",
    "from ibm_cloud_sdk_core.authenticators import IAMAuthenticator\n",
    "import json\n",
    "import matplotlib \n",
    "import matplotlib.pyplot as plt\n",
    "import kaggle\n",
    "from os.path import expanduser\n",
    "from glob import glob\n",
    "%matplotlib inline"
   ]
  },
  {
   "cell_type": "code",
   "execution_count": 3,
   "metadata": {},
   "outputs": [],
   "source": [
    "kaggle.api.authenticate()\n",
    "\n",
    "kaggle.api.dataset_download_files('andradaolteanu/rickmorty-scripts', path=expanduser('~/TMP/r_n_morty'), unzip=True)\n",
    "\n",
    "for name in glob(expanduser('~/TMP/r_n_morty/*')):\n",
    "    if '.csv' in name:\n",
    "        rnm_s123_data = pd.read_csv(name)"
   ]
  },
  {
   "cell_type": "code",
   "execution_count": 5,
   "metadata": {},
   "outputs": [],
   "source": [
    "rnm_s4e10_beth_data = pd.read_csv('/Users/simonlipson/Downloads/rick an morty beth lines - Sheet1.csv')"
   ]
  },
  {
   "cell_type": "code",
   "execution_count": 6,
   "metadata": {},
   "outputs": [
    {
     "data": {
      "text/html": [
       "<div>\n",
       "<style scoped>\n",
       "    .dataframe tbody tr th:only-of-type {\n",
       "        vertical-align: middle;\n",
       "    }\n",
       "\n",
       "    .dataframe tbody tr th {\n",
       "        vertical-align: top;\n",
       "    }\n",
       "\n",
       "    .dataframe thead th {\n",
       "        text-align: right;\n",
       "    }\n",
       "</style>\n",
       "<table border=\"1\" class=\"dataframe\">\n",
       "  <thead>\n",
       "    <tr style=\"text-align: right;\">\n",
       "      <th></th>\n",
       "      <th>character</th>\n",
       "      <th>line</th>\n",
       "    </tr>\n",
       "  </thead>\n",
       "  <tbody>\n",
       "    <tr>\n",
       "      <th>0</th>\n",
       "      <td>family_beth</td>\n",
       "      <td>Dr. Wong had a cancellation today. Anybody up ...</td>\n",
       "    </tr>\n",
       "    <tr>\n",
       "      <th>1</th>\n",
       "      <td>family_beth</td>\n",
       "      <td>Great, because she specifically asked you to s...</td>\n",
       "    </tr>\n",
       "    <tr>\n",
       "      <th>2</th>\n",
       "      <td>family_beth</td>\n",
       "      <td>Share the invisibility. Jerry?</td>\n",
       "    </tr>\n",
       "    <tr>\n",
       "      <th>3</th>\n",
       "      <td>family_beth</td>\n",
       "      <td>You're a bad father</td>\n",
       "    </tr>\n",
       "    <tr>\n",
       "      <th>4</th>\n",
       "      <td>family_beth</td>\n",
       "      <td>Dad? We're off to Dr. Wong's.</td>\n",
       "    </tr>\n",
       "    <tr>\n",
       "      <th>...</th>\n",
       "      <td>...</td>\n",
       "      <td>...</td>\n",
       "    </tr>\n",
       "    <tr>\n",
       "      <th>69</th>\n",
       "      <td>space_beth</td>\n",
       "      <td>That works for me... I was just gonna give you...</td>\n",
       "    </tr>\n",
       "    <tr>\n",
       "      <th>70</th>\n",
       "      <td>space_beth</td>\n",
       "      <td>What's this, Dad?</td>\n",
       "    </tr>\n",
       "    <tr>\n",
       "      <th>71</th>\n",
       "      <td>space_beth</td>\n",
       "      <td>You mind-blew yourself? You... You literally d...</td>\n",
       "    </tr>\n",
       "    <tr>\n",
       "      <th>72</th>\n",
       "      <td>space_beth</td>\n",
       "      <td>Yeah, me neither. You're a piece of shit eithe...</td>\n",
       "    </tr>\n",
       "    <tr>\n",
       "      <th>73</th>\n",
       "      <td>space_beth</td>\n",
       "      <td>The truth is we have more important shit to do...</td>\n",
       "    </tr>\n",
       "  </tbody>\n",
       "</table>\n",
       "<p>74 rows × 2 columns</p>\n",
       "</div>"
      ],
      "text/plain": [
       "      character                                               line\n",
       "0   family_beth  Dr. Wong had a cancellation today. Anybody up ...\n",
       "1   family_beth  Great, because she specifically asked you to s...\n",
       "2   family_beth                     Share the invisibility. Jerry?\n",
       "3   family_beth                                You're a bad father\n",
       "4   family_beth                      Dad? We're off to Dr. Wong's.\n",
       "..          ...                                                ...\n",
       "69   space_beth  That works for me... I was just gonna give you...\n",
       "70   space_beth                                  What's this, Dad?\n",
       "71   space_beth  You mind-blew yourself? You... You literally d...\n",
       "72   space_beth  Yeah, me neither. You're a piece of shit eithe...\n",
       "73   space_beth  The truth is we have more important shit to do...\n",
       "\n",
       "[74 rows x 2 columns]"
      ]
     },
     "execution_count": 6,
     "metadata": {},
     "output_type": "execute_result"
    }
   ],
   "source": [
    "rnm_s4e10_beth_data"
   ]
  },
  {
   "cell_type": "code",
   "execution_count": 23,
   "metadata": {},
   "outputs": [
    {
     "data": {
      "text/plain": [
       "Index(['index', 'season no.', 'episode no.', 'episode name', 'name', 'line'], dtype='object')"
      ]
     },
     "execution_count": 23,
     "metadata": {},
     "output_type": "execute_result"
    }
   ],
   "source": [
    "rnm_s123_data.columns"
   ]
  },
  {
   "cell_type": "code",
   "execution_count": 24,
   "metadata": {},
   "outputs": [],
   "source": [
    "rnm_s4e10_beth_data.columns = ['name', 'line']"
   ]
  },
  {
   "cell_type": "code",
   "execution_count": 107,
   "metadata": {},
   "outputs": [
    {
     "data": {
      "text/html": [
       "<div>\n",
       "<style scoped>\n",
       "    .dataframe tbody tr th:only-of-type {\n",
       "        vertical-align: middle;\n",
       "    }\n",
       "\n",
       "    .dataframe tbody tr th {\n",
       "        vertical-align: top;\n",
       "    }\n",
       "\n",
       "    .dataframe thead th {\n",
       "        text-align: right;\n",
       "    }\n",
       "</style>\n",
       "<table border=\"1\" class=\"dataframe\">\n",
       "  <thead>\n",
       "    <tr style=\"text-align: right;\">\n",
       "      <th></th>\n",
       "      <th>name</th>\n",
       "      <th>line</th>\n",
       "    </tr>\n",
       "  </thead>\n",
       "  <tbody>\n",
       "    <tr>\n",
       "      <th>0</th>\n",
       "      <td>family_beth</td>\n",
       "      <td>Dr. Wong had a cancellation today. Anybody up ...</td>\n",
       "    </tr>\n",
       "    <tr>\n",
       "      <th>1</th>\n",
       "      <td>family_beth</td>\n",
       "      <td>Great, because she specifically asked you to s...</td>\n",
       "    </tr>\n",
       "    <tr>\n",
       "      <th>2</th>\n",
       "      <td>family_beth</td>\n",
       "      <td>Share the invisibility. Jerry?</td>\n",
       "    </tr>\n",
       "    <tr>\n",
       "      <th>3</th>\n",
       "      <td>family_beth</td>\n",
       "      <td>You're a bad father</td>\n",
       "    </tr>\n",
       "    <tr>\n",
       "      <th>4</th>\n",
       "      <td>family_beth</td>\n",
       "      <td>Dad? We're off to Dr. Wong's.</td>\n",
       "    </tr>\n",
       "  </tbody>\n",
       "</table>\n",
       "</div>"
      ],
      "text/plain": [
       "          name                                               line\n",
       "0  family_beth  Dr. Wong had a cancellation today. Anybody up ...\n",
       "1  family_beth  Great, because she specifically asked you to s...\n",
       "2  family_beth                     Share the invisibility. Jerry?\n",
       "3  family_beth                                You're a bad father\n",
       "4  family_beth                      Dad? We're off to Dr. Wong's."
      ]
     },
     "execution_count": 107,
     "metadata": {},
     "output_type": "execute_result"
    }
   ],
   "source": [
    "rnm_s4e10_beth_data.head()"
   ]
  },
  {
   "cell_type": "code",
   "execution_count": 29,
   "metadata": {},
   "outputs": [],
   "source": [
    "rnm_s123_beth = rnm_s123_data.loc[rnm_s123_data['name']=='Beth'][['name', 'line']]"
   ]
  },
  {
   "cell_type": "code",
   "execution_count": 34,
   "metadata": {},
   "outputs": [],
   "source": [
    "real_beth = ' '.join(rnm_s123_data['line']\n",
    "                     .tolist())"
   ]
  },
  {
   "cell_type": "code",
   "execution_count": 40,
   "metadata": {},
   "outputs": [],
   "source": [
    "family_beth = ' '.join(rnm_s4e10_beth_data\n",
    "                       .loc[rnm_s4e10_beth_data['name']=='family_beth']['line']\n",
    "                       .tolist())"
   ]
  },
  {
   "cell_type": "code",
   "execution_count": 41,
   "metadata": {},
   "outputs": [],
   "source": [
    "space_beth = ' '.join(rnm_s4e10_beth_data\n",
    "                       .loc[rnm_s4e10_beth_data['name']=='space_beth']['line']\n",
    "                       .tolist())"
   ]
  },
  {
   "cell_type": "code",
   "execution_count": 42,
   "metadata": {},
   "outputs": [
    {
     "data": {
      "text/plain": [
       "<ibm_watson.personality_insights_v3.PersonalityInsightsV3 at 0x12f005880>"
      ]
     },
     "execution_count": 42,
     "metadata": {},
     "output_type": "execute_result"
    }
   ],
   "source": [
    "authenticator = IAMAuthenticator('Be785piW-5_PT6GVRQwXFX5tHCD-zTtL0cfESb9j3sV6')\n",
    "service = PersonalityInsightsV3(authenticator = authenticator, version='2017-10-13')\n",
    "service.set_service_url('https://api.eu-gb.personality-insights.watson.cloud.ibm.com/instances/636a8bd3-1de0-4bb5-bd45-748b1c2afa4d')\n",
    "service"
   ]
  },
  {
   "cell_type": "code",
   "execution_count": 44,
   "metadata": {},
   "outputs": [
    {
     "name": "stdout",
     "output_type": "stream",
     "text": [
      "7\n",
      "8\n",
      "8\n"
     ]
    }
   ],
   "source": [
    "beths = ['real_beth', 'family_beth', 'space_beth']\n",
    "\n",
    "for beth in beths:\n",
    "    globals()[beth + '_profile'] = service.profile(\n",
    "                                                    globals()[beth],\n",
    "                                                    'application/json',\n",
    "                                                    consumption_preferences=True,\n",
    "                                                    raw_scores=True\n",
    "                                                    ).get_result()\n",
    "    print(len(globals()[beth + '_profile']))"
   ]
  },
  {
   "cell_type": "code",
   "execution_count": 156,
   "metadata": {},
   "outputs": [],
   "source": [
    "def create_personality_plot(level):\n",
    "    labels = [big5['name'] for big5 in real_beth_profile[level]]\n",
    "    real_beth_p = [big5['percentile'] for big5 in real_beth_profile[level]]\n",
    "    family_beth_p = [big5['percentile'] for big5 in family_beth_profile[level]]\n",
    "    space_beth_p = [big5['percentile'] for big5 in space_beth_profile[level]]\n",
    "\n",
    "    barWidth = 0.20  # the width of the bars\n",
    "\n",
    "    # Set position of bar on X axis\n",
    "    r1 = np.arange(len(real_beth_p))\n",
    "    r2 = [x + barWidth for x in r1]\n",
    "    r3 = [x + barWidth for x in r2]\n",
    "\n",
    "    # Make the plot\n",
    "    plt.bar(r1, real_beth_p, color='#cc6600', width=barWidth, edgecolor='white', label='real_beth')\n",
    "    plt.bar(r2, family_beth_p, color='#cccc00', width=barWidth, edgecolor='white', label='family_beth')\n",
    "    plt.bar(r3, space_beth_p, color='#66cc00', width=barWidth, edgecolor='white', label='space_beth')\n",
    "\n",
    "\n",
    "    # Add xticks on the middle of the group bars\n",
    "    plt.xlabel(level, fontweight = 'bold')\n",
    "    plt.xticks([r + barWidth for r in range(len(real_beth_p))], labels)\n",
    "    plt.rcParams[\"figure.figsize\"] = (30,8)\n",
    "    matplotlib.rcParams.update({'font.size': 20})\n",
    "    plt.ylabel('Percentile', fontweight = 'bold')\n",
    "\n",
    "    # Create legend & Show graphic\n",
    "    plt.legend()\n",
    "    plt.show()\n"
   ]
  },
  {
   "cell_type": "code",
   "execution_count": 71,
   "metadata": {},
   "outputs": [
    {
     "data": {
      "image/png": "[encoded data removed]",
      "text/plain": [
       "<Figure size 2160x576 with 1 Axes>"
      ]
     },
     "metadata": {
      "needs_background": "light"
     },
     "output_type": "display_data"
    }
   ],
   "source": [
    "create_personality_plot('personality')"
   ]
  },
  {
   "cell_type": "code",
   "execution_count": 158,
   "metadata": {},
   "outputs": [
    {
     "data": {
      "image/png": "[encoded data removed]",
      "text/plain": [
       "<Figure size 2160x576 with 1 Axes>"
      ]
     },
     "metadata": {
      "needs_background": "light"
     },
     "output_type": "display_data"
    }
   ],
   "source": [
    "create_personality_plot('needs')"
   ]
  },
  {
   "cell_type": "markdown",
   "metadata": {},
   "source": [
    "## Classifying Real Beth as either Family Beth or Space Beth\n",
    "\n",
    "Here I will train a classifyer on family_beth and space_beth. I can"
   ]
  },
  {
   "cell_type": "code",
   "execution_count": 139,
   "metadata": {},
   "outputs": [],
   "source": [
    "X_train = rnm_s4e10_beth_data['line']\n",
    "X_test = rnm_s123_beth['line']\n",
    "y_train = rnm_s4e10_beth_data['name']\n",
    "y_test = rnm_s123_beth['name']"
   ]
  },
  {
   "cell_type": "code",
   "execution_count": 140,
   "metadata": {},
   "outputs": [
    {
     "name": "stdout",
     "output_type": "stream",
     "text": [
      "(74, 1408)\n",
      "(149, 1408)\n"
     ]
    }
   ],
   "source": [
    "tfv = TfidfVectorizer(ngram_range=(2,4), max_features=1408)\n",
    "X_train = tfv.fit_transform(X_train).todense()\n",
    "X_test = tfv.fit_transform(X_test).todense()\n",
    "print(X_train.shape)\n",
    "print(X_test.shape)"
   ]
  },
  {
   "cell_type": "code",
   "execution_count": 141,
   "metadata": {},
   "outputs": [
    {
     "data": {
      "text/plain": [
       "LogisticRegression(C=1.0, class_weight=None, dual=False, fit_intercept=True,\n",
       "                   intercept_scaling=1, l1_ratio=None, max_iter=100,\n",
       "                   multi_class='auto', n_jobs=None, penalty='l2',\n",
       "                   random_state=None, solver='lbfgs', tol=0.0001, verbose=0,\n",
       "                   warm_start=False)"
      ]
     },
     "execution_count": 141,
     "metadata": {},
     "output_type": "execute_result"
    }
   ],
   "source": [
    "model = LogisticRegression()\n",
    "model.fit(X_train, y_train)"
   ]
  },
  {
   "cell_type": "code",
   "execution_count": 147,
   "metadata": {},
   "outputs": [],
   "source": [
    "y_pred_prob = model.predict_proba(X_test)\n",
    "result = pd.DataFrame(y_pred_prob, columns=['family_beth_probability', 'space_beth_probability'])"
   ]
  },
  {
   "cell_type": "code",
   "execution_count": 149,
   "metadata": {},
   "outputs": [],
   "source": [
    "result = pd.DataFrame(y_pred_prob, columns=['family_beth_probability', 'space_beth_probability'])"
   ]
  },
  {
   "cell_type": "code",
   "execution_count": 154,
   "metadata": {},
   "outputs": [
    {
     "data": {
      "text/plain": [
       "0.3987001057093412"
      ]
     },
     "execution_count": 154,
     "metadata": {},
     "output_type": "execute_result"
    }
   ],
   "source": [
    "result['family_beth_probability'].mean()"
   ]
  },
  {
   "cell_type": "code",
   "execution_count": 155,
   "metadata": {},
   "outputs": [
    {
     "data": {
      "text/plain": [
       "0.6012998942906588"
      ]
     },
     "execution_count": 155,
     "metadata": {},
     "output_type": "execute_result"
    }
   ],
   "source": [
    "result['space_beth_probability'].mean()"
   ]
  },
  {
   "cell_type": "code",
   "execution_count": null,
   "metadata": {},
   "outputs": [],
   "source": []
  }
 ],
 "metadata": {
  "kernelspec": {
   "display_name": "Python 3",
   "language": "python",
   "name": "python3"
  },
  "language_info": {
   "codemirror_mode": {
    "name": "ipython",
    "version": 3
   },
   "file_extension": ".py",
   "mimetype": "text/x-python",
   "name": "python",
   "nbconvert_exporter": "python",
   "pygments_lexer": "ipython3",
   "version": "3.8.1"
  }
 },
 "nbformat": 4,
 "nbformat_minor": 2
}
